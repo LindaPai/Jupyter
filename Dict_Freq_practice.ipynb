{
 "cells": [
  {
   "cell_type": "code",
   "execution_count": 1,
   "metadata": {},
   "outputs": [],
   "source": [
    "# need to add encoding argu to open file to ignore error\n",
    "opened_file = open('AppleStore.csv', encoding= \"utf8\")\n",
    "from csv import reader\n",
    "read_file = reader(opened_file)\n",
    "apps_data = list(read_file)"
   ]
  },
  {
   "cell_type": "code",
   "execution_count": 2,
   "metadata": {},
   "outputs": [
    {
     "name": "stdout",
     "output_type": "stream",
     "text": [
      "{'4+': 4433, '9+': 987, '12+': 1155, '17+': 622}\n"
     ]
    }
   ],
   "source": [
    "content_ratings = {\"4+\":0, \"9+\":0, \"12+\":0, \"17+\":0}\n",
    "for app in apps_data[1:]:\n",
    "    c_rating = app[10]\n",
    "    if c_rating in content_ratings:\n",
    "        content_ratings[c_rating] += 1\n",
    "print(content_ratings)"
   ]
  },
  {
   "cell_type": "code",
   "execution_count": 3,
   "metadata": {},
   "outputs": [
    {
     "name": "stdout",
     "output_type": "stream",
     "text": [
      "This is Key:  4+\n",
      "Value:  4433\n",
      "This is Key:  9+\n",
      "Value:  987\n",
      "This is Key:  12+\n",
      "Value:  1155\n",
      "This is Key:  17+\n",
      "Value:  622\n"
     ]
    }
   ],
   "source": [
    "for a in content_ratings:\n",
    "    print(\"This is Key: \", a)\n",
    "    print(\"Value: \", content_ratings[a])"
   ]
  },
  {
   "cell_type": "code",
   "execution_count": 4,
   "metadata": {},
   "outputs": [
    {
     "name": "stdout",
     "output_type": "stream",
     "text": [
      "{'Social Networking': 167, 'Photo & Video': 349, 'Games': 3862, 'Music': 138, 'Reference': 64, 'Health & Fitness': 180, 'Weather': 72, 'Utilities': 248, 'Travel': 81, 'Shopping': 122, 'News': 75, 'Navigation': 46, 'Lifestyle': 144, 'Entertainment': 535, 'Food & Drink': 63, 'Sports': 114, 'Book': 112, 'Finance': 104, 'Education': 453, 'Productivity': 178, 'Business': 57, 'Catalogs': 10, 'Medical': 23}\n"
     ]
    }
   ],
   "source": [
    "genre_counting = {}\n",
    "for app in apps_data[1:]:\n",
    "    genre = app[11]\n",
    "    if genre in genre_counting:\n",
    "        genre_counting[genre] += 1\n",
    "    else:\n",
    "        genre_counting[genre] = 1\n",
    "print(genre_counting)"
   ]
  },
  {
   "cell_type": "markdown",
   "metadata": {},
   "source": [
    "Q1. What percentage of apps has content rating of \"17+\"?\n",
    "\n",
    "Q2. What percentage of apps can a 15-year-old download?"
   ]
  },
  {
   "cell_type": "code",
   "execution_count": 5,
   "metadata": {},
   "outputs": [],
   "source": [
    "content_ratings = {'4+': 4433, '12+': 1155, '9+': 987, '17+': 622}\n",
    "total_number_of_apps = 7197"
   ]
  },
  {
   "cell_type": "code",
   "execution_count": 6,
   "metadata": {},
   "outputs": [
    {
     "name": "stdout",
     "output_type": "stream",
     "text": [
      "{'4+': 61.595109073224954, '12+': 16.04835348061692, '9+': 13.714047519799916, '17+': 8.642489926358204}\n"
     ]
    }
   ],
   "source": [
    "for a in content_ratings:\n",
    "    content_ratings[a] /= total_number_of_apps\n",
    "    content_ratings[a] *= 100\n",
    "\n",
    "print(content_ratings)"
   ]
  },
  {
   "cell_type": "code",
   "execution_count": 7,
   "metadata": {},
   "outputs": [
    {
     "name": "stdout",
     "output_type": "stream",
     "text": [
      "The Percentage of app for 17+:  8.642489926358204\n",
      "The Percentafe of app for 15:  91.35751007364179\n"
     ]
    }
   ],
   "source": [
    "percentage_17_plus = content_ratings[\"17+\"]\n",
    "print(\"The Percentage of app for 17+: \", percentage_17_plus)\n",
    "\n",
    "percentage_15_allowed = content_ratings[\"4+\"]+content_ratings[\"12+\"]+content_ratings[\"9+\"]\n",
    "print(\"The Percentafe of app for 15: \", percentage_15_allowed)"
   ]
  },
  {
   "cell_type": "code",
   "execution_count": 9,
   "metadata": {},
   "outputs": [
    {
     "name": "stdout",
     "output_type": "stream",
     "text": [
      "Proportions:  {'4+': 0.6159510907322495, '12+': 0.16048353480616923, '9+': 0.13714047519799916, '17+': 0.08642489926358204}\n",
      "Percentages:  {'4+': 61.595109073224954, '12+': 16.04835348061692, '9+': 13.714047519799916, '17+': 8.642489926358204}\n"
     ]
    }
   ],
   "source": [
    "content_ratings = {'4+': 4433, '12+': 1155, '9+': 987, '17+': 622}\n",
    "total_number_of_apps = 7197\n",
    "c_ratings_proportions = {}\n",
    "c_ratings_percentages = {}\n",
    "for key in content_ratings:\n",
    "    proportion = content_ratings[key] / total_number_of_apps\n",
    "    percentage = proportion * 100\n",
    "    c_ratings_proportions[key] = proportion\n",
    "    c_ratings_percentages[key] = percentage\n",
    "print(\"Proportions: \", c_ratings_proportions)\n",
    "print(\"Percentages: \", c_ratings_percentages)"
   ]
  },
  {
   "cell_type": "code",
   "execution_count": 13,
   "metadata": {},
   "outputs": [
    {
     "name": "stdout",
     "output_type": "stream",
     "text": [
      "Min:  589824.0\n",
      "Max:  4025969664.0\n",
      "Top 5 of Sizes:  [389879808.0, 113954816.0, 116476928.0, 65921024.0, 130242560.0]\n"
     ]
    }
   ],
   "source": [
    "data_sizes = []\n",
    "for row in apps_data[1:]:\n",
    "    size = float(row[2])\n",
    "    data_sizes.append(size)\n",
    "    \n",
    "min_size = min(data_sizes)\n",
    "max_size = max(data_sizes)\n",
    "print(\"Min: \", min_size)\n",
    "print(\"Max: \", max_size)\n",
    "print(\"Top 5 of Sizes: \", data_sizes[:5])"
   ]
  },
  {
   "cell_type": "code",
   "execution_count": 14,
   "metadata": {},
   "outputs": [
    {
     "name": "stdout",
     "output_type": "stream",
     "text": [
      "0.0\n",
      "2974676.0\n"
     ]
    }
   ],
   "source": [
    "sizes = []\n",
    "for a in apps_data[1:]:\n",
    "    size = float(a[5])\n",
    "    sizes.append(size)\n",
    "min_size = min(sizes)\n",
    "max_size = max(sizes)\n",
    "print(min_size)\n",
    "print(max_size)"
   ]
  },
  {
   "cell_type": "code",
   "execution_count": 32,
   "metadata": {
    "scrolled": true
   },
   "outputs": [
    {
     "name": "stdout",
     "output_type": "stream",
     "text": [
      "{'0 - 10 MB': 285, '10 - 50 MB': 1639, '50 - 100 MB': 1778, '100 - 500 MB': 2894, '500 MB+': 601}\n"
     ]
    }
   ],
   "source": [
    "data_sizes = {\"0 - 10 MB\": 0, \"10 - 50 MB\": 0, \"50 - 100 MB\": 0,\n",
    "              \"100 - 500 MB\": 0, \"500 MB+\": 0}\n",
    "for row in apps_data[1:]:\n",
    "    data_size = float(row[2])\n",
    "    if data_size <= 10000000:\n",
    "        data_sizes[\"0 - 10 MB\"] +=1\n",
    "    elif 10000000 < data_size <= 50000000:\n",
    "        data_sizes[\"10 - 50 MB\"] +=1\n",
    "    elif 50000000 < data_size <= 100000000:\n",
    "        data_sizes[\"50 - 100 MB\"] +=1\n",
    "    elif 100000000 < data_size <= 500000000:\n",
    "        data_sizes[\"100 - 500 MB\"] +=1\n",
    "    elif data_size > 500000000:\n",
    "        data_sizes[\"500 MB+\"] +=1\n",
    "\n",
    "print(data_sizes)"
   ]
  },
  {
   "cell_type": "code",
   "execution_count": 34,
   "metadata": {},
   "outputs": [
    {
     "name": "stdout",
     "output_type": "stream",
     "text": [
      "{'10 - 50 MB': 1639, '50 - 100 MB': 1778}\n"
     ]
    }
   ],
   "source": [
    "a = {\"10 - 50 MB\": 0, \"50 - 100 MB\": 0}\n",
    "for x in apps_data[1:]:\n",
    "    b = float(x[2])\n",
    "    \n",
    "    if 10000000 < b <= 50000000:\n",
    "        a[\"10 - 50 MB\"] += 1\n",
    "    elif 50000000 < b <= 100000000:\n",
    "        a[\"50 - 100 MB\"] += 1\n",
    "print(a)"
   ]
  },
  {
   "cell_type": "code",
   "execution_count": null,
   "metadata": {},
   "outputs": [],
   "source": []
  }
 ],
 "metadata": {
  "kernelspec": {
   "display_name": "Python 3",
   "language": "python",
   "name": "python3"
  },
  "language_info": {
   "codemirror_mode": {
    "name": "ipython",
    "version": 3
   },
   "file_extension": ".py",
   "mimetype": "text/x-python",
   "name": "python",
   "nbconvert_exporter": "python",
   "pygments_lexer": "ipython3",
   "version": "3.7.1"
  }
 },
 "nbformat": 4,
 "nbformat_minor": 2
}
