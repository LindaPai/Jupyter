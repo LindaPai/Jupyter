{
 "cells": [
  {
   "cell_type": "code",
   "execution_count": 1,
   "metadata": {},
   "outputs": [
    {
     "name": "stdout",
     "output_type": "stream",
     "text": [
      "103945\n",
      "103945\n"
     ]
    }
   ],
   "source": [
    "a_list = [4444, 8897, 6340, 9896, 4835, 4324, 10, 6445,\n",
    "          661, 1246, 1000, 7429, 1376, 8121, 647, 1280,\n",
    "          3993, 4881, 9500, 6701, 1199, 6251, 4432, 37]\n",
    "\n",
    "sum_manual = 0\n",
    "for e in a_list:\n",
    "    sum_manual += e\n",
    "    \n",
    "print(sum_manual)\n",
    "print(sum(a_list))"
   ]
  },
  {
   "cell_type": "code",
   "execution_count": 3,
   "metadata": {},
   "outputs": [
    {
     "name": "stdout",
     "output_type": "stream",
     "text": [
      "{'4+': 3, '9+': 1, '12+': 2, '17+': 2}\n"
     ]
    }
   ],
   "source": [
    "# Generate a Frequency table\n",
    "ratings = ['4+', '4+', '4+', '9+', '12+', '12+', '17+', '17+']\n",
    "content_ratings = {}\n",
    "for row in ratings:\n",
    "    if row in content_ratings:\n",
    "        content_ratings[row] += 1\n",
    "    else:\n",
    "        content_ratings[row] = 1\n",
    "print(content_ratings)"
   ]
  },
  {
   "cell_type": "code",
   "execution_count": 4,
   "metadata": {},
   "outputs": [
    {
     "name": "stdout",
     "output_type": "stream",
     "text": [
      "100\n",
      "256\n"
     ]
    }
   ],
   "source": [
    "# Create own function\n",
    "def square(x):\n",
    "    num = x * x\n",
    "    return num\n",
    "\n",
    "squared_10 = square(x = 10)\n",
    "squared_16 = square(x = 16)\n",
    "print(squared_10)\n",
    "print(squared_16)"
   ]
  },
  {
   "cell_type": "code",
   "execution_count": 6,
   "metadata": {},
   "outputs": [
    {
     "name": "stdout",
     "output_type": "stream",
     "text": [
      "36 121\n"
     ]
    }
   ],
   "source": [
    "# Short way to create function\n",
    "def square(x):\n",
    "    return x * x\n",
    "squared_6 = square(6)\n",
    "squared_11 = square(11)\n",
    "print(squared_6, squared_11)"
   ]
  },
  {
   "cell_type": "markdown",
   "metadata": {},
   "source": [
    "## Create a function that extracts the values for any column we want in a separate list"
   ]
  },
  {
   "cell_type": "code",
   "execution_count": 11,
   "metadata": {},
   "outputs": [
    {
     "name": "stdout",
     "output_type": "stream",
     "text": [
      "['Social Networking', 'Photo & Video', 'Games', 'Games', 'Music']\n"
     ]
    }
   ],
   "source": [
    "opened_file = open('AppleStore.csv', encoding = \"utf8\")\n",
    "from csv import reader\n",
    "read_file = reader(opened_file)\n",
    "apps_data = list(read_file)\n",
    "\n",
    "def extract(index_number):\n",
    "    x = []\n",
    "    for row in apps_data[1:]:\n",
    "        a = row[index_number]\n",
    "        x.append(a)\n",
    "    return x\n",
    "genres = extract(11)  # extract prime_genre\n",
    "print(genres[:5])"
   ]
  },
  {
   "cell_type": "markdown",
   "metadata": {},
   "source": [
    "## Create a function that generates a frequency table for a lis"
   ]
  },
  {
   "cell_type": "code",
   "execution_count": 14,
   "metadata": {},
   "outputs": [
    {
     "name": "stdout",
     "output_type": "stream",
     "text": [
      "['Social Networking', 'Photo & Video', 'Games', 'Games', 'Music']\n",
      "{'Social Networking': 167, 'Photo & Video': 349, 'Games': 3862, 'Music': 138, 'Reference': 64, 'Health & Fitness': 180, 'Weather': 72, 'Utilities': 248, 'Travel': 81, 'Shopping': 122, 'News': 75, 'Navigation': 46, 'Lifestyle': 144, 'Entertainment': 535, 'Food & Drink': 63, 'Sports': 114, 'Book': 112, 'Finance': 104, 'Education': 453, 'Productivity': 178, 'Business': 57, 'Catalogs': 10, 'Medical': 23}\n"
     ]
    }
   ],
   "source": [
    "def extract(index):\n",
    "    column = []    \n",
    "    for row in apps_data[1:]:\n",
    "        value = row[index]\n",
    "        column.append(value)    \n",
    "    return column\n",
    "\n",
    "genres = extract(11) # App Genres\n",
    "\n",
    "def freq_table(list_name):\n",
    "    table = {}\n",
    "    for x in list_name:\n",
    "        if x in table:\n",
    "            table[x] += 1\n",
    "        else:\n",
    "            table[x] = 1\n",
    "    return table\n",
    "\n",
    "ft = freq_table(genres)\n",
    "print(genres[:5])\n",
    "print(ft)"
   ]
  },
  {
   "cell_type": "code",
   "execution_count": 15,
   "metadata": {},
   "outputs": [
    {
     "name": "stdout",
     "output_type": "stream",
     "text": [
      "['4+', '12+', '9+', '9+', '12+']\n",
      "{'4+': 4433, '12+': 1155, '9+': 987, '17+': 622}\n"
     ]
    }
   ],
   "source": [
    "def extract(index):\n",
    "    column = []    \n",
    "    for row in apps_data[1:]:\n",
    "        value = row[index]\n",
    "        column.append(value)    \n",
    "    return column\n",
    "\n",
    "genres = extract(10) # Conten rating column\n",
    "\n",
    "def freq_table(list_name):\n",
    "    table = {}\n",
    "    for x in list_name:\n",
    "        if x in table:\n",
    "            table[x] += 1\n",
    "        else:\n",
    "            table[x] = 1\n",
    "    return table\n",
    "\n",
    "ft = freq_table(genres)\n",
    "print(genres[:5])\n",
    "print(ft)"
   ]
  },
  {
   "cell_type": "code",
   "execution_count": 17,
   "metadata": {},
   "outputs": [
    {
     "name": "stdout",
     "output_type": "stream",
     "text": [
      "{'3.5': 702, '4.5': 2663, '4.0': 1626, '3.0': 383, '5.0': 492, '2.5': 196, '2.0': 106, '1.5': 56, '1.0': 44, '0.0': 929}\n"
     ]
    }
   ],
   "source": [
    "# Short way to create frequency table without extract column\n",
    "def freq_table(index_num):\n",
    "    ft = {}\n",
    "    for x in apps_data[1:]:\n",
    "        a = x[index_num]\n",
    "        if a in ft:\n",
    "            ft[a] += 1\n",
    "        else:\n",
    "            ft[a] = 1\n",
    "    return ft\n",
    "\n",
    "x_ft = freq_table(7)\n",
    "print(x_ft)"
   ]
  },
  {
   "cell_type": "code",
   "execution_count": 20,
   "metadata": {},
   "outputs": [
    {
     "name": "stdout",
     "output_type": "stream",
     "text": [
      "{'3.5': 702, '4.5': 2663, '4.0': 1626, '3.0': 383, '5.0': 492, '2.5': 196, '2.0': 106, '1.5': 56, '1.0': 44, '0.0': 929}\n"
     ]
    }
   ],
   "source": [
    "# Let custom function reusable for other data set\n",
    "def freq_table(index_num, d_set):\n",
    "    table = {}\n",
    "    \n",
    "    for row in d_set[1:]:\n",
    "        value = row[index_num]\n",
    "        if value in table:\n",
    "            table[value] += 1\n",
    "        else:\n",
    "            table[value] = 1\n",
    "            \n",
    "    return table\n",
    "ratings_ft = freq_table(7, apps_data)\n",
    "print(ratings_ft)  # The result is same as above"
   ]
  },
  {
   "cell_type": "code",
   "execution_count": 22,
   "metadata": {},
   "outputs": [
    {
     "name": "stdout",
     "output_type": "stream",
     "text": [
      "1.7262178685562666\n"
     ]
    }
   ],
   "source": [
    "# Create a function within function\n",
    "def extract(data_set, index):\n",
    "    column = []    \n",
    "    for row in data_set[1:]:\n",
    "        value = row[index]\n",
    "        column.append(value)    \n",
    "    return column\n",
    "\n",
    "def find_sum(a_list):\n",
    "    a_sum = 0\n",
    "    for element in a_list:\n",
    "        a_sum += float(element)\n",
    "    return a_sum\n",
    "\n",
    "def find_length(a_list):\n",
    "    length = 0\n",
    "    for element in a_list:\n",
    "        length += 1\n",
    "    return length\n",
    "\n",
    "def mean(x,y):\n",
    "    d = extract(x,y)\n",
    "    a = find_sum(d)\n",
    "    b = find_length(d)\n",
    "    c = a / b\n",
    "    return c\n",
    "\n",
    "avg_price = mean(apps_data,4)    \n",
    "print(avg_price)"
   ]
  }
 ],
 "metadata": {
  "kernelspec": {
   "display_name": "Python 3",
   "language": "python",
   "name": "python3"
  },
  "language_info": {
   "codemirror_mode": {
    "name": "ipython",
    "version": 3
   },
   "file_extension": ".py",
   "mimetype": "text/x-python",
   "name": "python",
   "nbconvert_exporter": "python",
   "pygments_lexer": "ipython3",
   "version": "3.7.1"
  }
 },
 "nbformat": 4,
 "nbformat_minor": 2
}
